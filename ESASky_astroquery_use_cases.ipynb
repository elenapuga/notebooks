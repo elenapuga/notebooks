{
 "cells": [
  {
   "cell_type": "markdown",
   "metadata": {},
   "source": [
    "# Access ESASky products with astroquery.esasky\n",
    "\n",
    "##### Authors: Ivan Valtchanov, Belén López Martí, H. Norman\n",
    "\n",
    "#### Last update: Feb 7, 2019\n"
   ]
  },
  {
   "cell_type": "markdown",
   "metadata": {},
   "source": [
    "This notebook illustrates some example usages of the ESASky implementation in astroquery.\n",
    "\n",
    "First you need to install astroquery and esasky.\n",
    "\n",
    "Astroquery can be installed with pip install astroquery, the latest version should come with esasky. Alternatively, you can grab the latest astroquery with esasky from [here](https://github.com/imbasimba/astroquery).\n",
    "\n",
    "The documentation for astroquery.esasky is available [here](https://astroquery.readthedocs.io/en/latest/esasky/esasky.html).\n"
   ]
  },
  {
   "cell_type": "markdown",
   "metadata": {},
   "source": [
    "\n",
    "\n",
    "### Use Case 1: Retrieve imaging data for a single object\n",
    "\n",
    "In this use case, imaging data are retrieved for a single object, indicated by its name (resolved by Simbad) or coordinates.\n",
    "\n",
    "We start by importing the ESASky astroquery module and other necessary packages:\n"
   ]
  },
  {
   "cell_type": "code",
   "execution_count": 1,
   "metadata": {},
   "outputs": [],
   "source": [
    "%matplotlib inline\n",
    "import matplotlib.pyplot as plt\n",
    "from matplotlib.colors import LogNorm\n",
    "import os\n",
    "from astroquery.esasky import ESASky"
   ]
  },
  {
   "cell_type": "markdown",
   "metadata": {},
   "source": [
    "First, let's check the available maps: "
   ]
  },
  {
   "cell_type": "code",
   "execution_count": 2,
   "metadata": {},
   "outputs": [
    {
     "data": {
      "text/plain": [
       "['INTEGRAL',\n",
       " 'XMM',\n",
       " 'Chandra',\n",
       " 'SUZAKU',\n",
       " 'XMM-OM-OPTICAL',\n",
       " 'XMM-OM-UV',\n",
       " 'HST',\n",
       " 'Herschel',\n",
       " 'ISO']"
      ]
     },
     "execution_count": 2,
     "metadata": {},
     "output_type": "execute_result"
    }
   ],
   "source": [
    "ESASky.list_maps()"
   ]
  },
  {
   "cell_type": "markdown",
   "metadata": {},
   "source": [
    "Let's do a search around the position of our object:"
   ]
  },
  {
   "cell_type": "code",
   "execution_count": 3,
   "metadata": {
    "scrolled": true
   },
   "outputs": [
    {
     "name": "stderr",
     "output_type": "stream",
     "text": [
      "WARNING: W35: None:4:0: W35: 'value' attribute required for INFO elements [astropy.io.votable.tree]\n",
      "WARNING: W35: None:5:0: W35: 'value' attribute required for INFO elements [astropy.io.votable.tree]\n",
      "WARNING: W35: None:5:28: W35: 'value' attribute required for INFO elements [astropy.io.votable.tree]\n",
      "WARNING: W35: None:5:53: W35: 'value' attribute required for INFO elements [astropy.io.votable.tree]\n",
      "WARNING: W35: None:5:83: W35: 'value' attribute required for INFO elements [astropy.io.votable.tree]\n",
      "WARNING: W35: None:6:0: W35: 'value' attribute required for INFO elements [astropy.io.votable.tree]\n"
     ]
    },
    {
     "name": "stdout",
     "output_type": "stream",
     "text": [
      "TableList with 7 tables:\n",
      "\t'0:XMM' with 10 column(s) and 6 row(s) \n",
      "\t'1:CHANDRA' with 10 column(s) and 16 row(s) \n",
      "\t'2:XMM-OM-OPTICAL' with 11 column(s) and 4 row(s) \n",
      "\t'3:XMM-OM-UV' with 10 column(s) and 5 row(s) \n",
      "\t'4:HST' with 12 column(s) and 156 row(s) \n",
      "\t'5:HERSCHEL' with 12 column(s) and 9 row(s) \n",
      "\t'6:ISO' with 7 column(s) and 4 row(s) \n"
     ]
    }
   ],
   "source": [
    "maps = ESASky.query_object_maps('M51')\n",
    "print (maps)"
   ]
  },
  {
   "cell_type": "markdown",
   "metadata": {},
   "source": [
    "The output is a TableList with the keys corresponding to the mission (or in some cases, mission and instrument) names for which there are images available covering our target position.\n",
    "\n",
    "We can also do a search by coordinates, either by using an [astroquery.coordinates](http://docs.astropy.org/en/stable/coordinates/) object or by typing the coordinates. In this latter case, we have to define the units we are using (d = degrees; h = hours; m = minutes; s = seconds)."
   ]
  },
  {
   "cell_type": "code",
   "execution_count": 4,
   "metadata": {
    "scrolled": true
   },
   "outputs": [
    {
     "name": "stderr",
     "output_type": "stream",
     "text": [
      "/Users/belenlopezmarti/anaconda3/lib/python3.6/site-packages/astroquery/utils/commons.py:159: UserWarning: Coordinate string is being interpreted as an ICRS coordinate.\n",
      "  warnings.warn(\"Coordinate string is being interpreted as an \"\n",
      "WARNING: W35: None:4:0: W35: 'value' attribute required for INFO elements [astropy.io.votable.tree]\n",
      "WARNING: W35: None:5:0: W35: 'value' attribute required for INFO elements [astropy.io.votable.tree]\n",
      "WARNING: W35: None:5:28: W35: 'value' attribute required for INFO elements [astropy.io.votable.tree]\n",
      "WARNING: W35: None:5:53: W35: 'value' attribute required for INFO elements [astropy.io.votable.tree]\n",
      "WARNING: W35: None:5:83: W35: 'value' attribute required for INFO elements [astropy.io.votable.tree]\n",
      "WARNING: W35: None:6:0: W35: 'value' attribute required for INFO elements [astropy.io.votable.tree]\n"
     ]
    },
    {
     "name": "stdout",
     "output_type": "stream",
     "text": [
      "TableList with 7 tables:\n",
      "\t'0:XMM' with 10 column(s) and 6 row(s) \n",
      "\t'1:CHANDRA' with 10 column(s) and 16 row(s) \n",
      "\t'2:XMM-OM-OPTICAL' with 11 column(s) and 4 row(s) \n",
      "\t'3:XMM-OM-UV' with 10 column(s) and 5 row(s) \n",
      "\t'4:HST' with 12 column(s) and 156 row(s) \n",
      "\t'5:HERSCHEL' with 12 column(s) and 9 row(s) \n",
      "\t'6:ISO' with 7 column(s) and 4 row(s) \n"
     ]
    }
   ],
   "source": [
    "maps = ESASky.query_object_maps('13h29m52.7s +47d11m43s')\n",
    "print (maps)"
   ]
  },
  {
   "cell_type": "markdown",
   "metadata": {},
   "source": [
    "The method has a tolerance of 5 arcsec to allow for positional errors."
   ]
  },
  {
   "cell_type": "markdown",
   "metadata": {},
   "source": [
    "Let's check the content of the 'XMM-OM-OPTICAL' table:"
   ]
  },
  {
   "cell_type": "code",
   "execution_count": 5,
   "metadata": {},
   "outputs": [
    {
     "data": {
      "text/plain": [
       "<Table masked=True length=5>\n",
       "     name       dtype  format\n",
       "-------------- ------- ------\n",
       "  postcard_url  object       \n",
       "   product_url  object       \n",
       "observation_id  object       \n",
       "    instrument  object       \n",
       "        filter  object       \n",
       "        ra_deg float64 {!r:>}\n",
       "       dec_deg float64 {!r:>}\n",
       "     start_utc  object       \n",
       "      duration   int64       \n",
       "         stc_s  object       "
      ]
     },
     "execution_count": 5,
     "metadata": {},
     "output_type": "execute_result"
    }
   ],
   "source": [
    "maps['XMM-OM-UV'].info"
   ]
  },
  {
   "cell_type": "markdown",
   "metadata": {},
   "source": [
    "As we see, it contains a table with URLs for the maps, and some additional info, like map ra, dec, bandpass ('filter'), or the exposure time ('duration').\n",
    "\n",
    "Let's now see what bands are available:"
   ]
  },
  {
   "cell_type": "code",
   "execution_count": 6,
   "metadata": {},
   "outputs": [
    {
     "name": "stdout",
     "output_type": "stream",
     "text": [
      "observation_id instrument filter duration\n",
      "-------------- ---------- ------ --------\n",
      "    0212480801         OM      B    49214\n",
      "    0212480801         OM      U    49214\n",
      "    0212480801         OM      V    49214\n",
      "    0303420101         OM      U    54114\n"
     ]
    }
   ],
   "source": [
    "maps['XMM-OM-OPTICAL']['observation_id', 'instrument', 'filter', 'duration'].pprint()"
   ]
  },
  {
   "cell_type": "markdown",
   "metadata": {},
   "source": [
    "The result is stored in memory. To get the actual images:"
   ]
  },
  {
   "cell_type": "code",
   "execution_count": 7,
   "metadata": {
    "scrolled": true
   },
   "outputs": [
    {
     "name": "stdout",
     "output_type": "stream",
     "text": [
      "Starting download of XMM-OM-OPTICAL data. (4 files)\n",
      "Downloading Observation ID: 0212480801 from http://nxsa.esac.esa.int/nxsa-sl/servlet/data-action-aio?level=PPS&extension=FTZ&obsno=0212480801&name=RSIMAGB [Done]\n",
      "Downloading Observation ID: 0212480801 from http://nxsa.esac.esa.int/nxsa-sl/servlet/data-action-aio?level=PPS&extension=FTZ&obsno=0212480801&name=RSIMAGU [Done]\n",
      "Downloading Observation ID: 0212480801 from http://nxsa.esac.esa.int/nxsa-sl/servlet/data-action-aio?level=PPS&extension=FTZ&obsno=0212480801&name=RSIMAGV [Done]\n",
      "Downloading Observation ID: 0303420101 from http://nxsa.esac.esa.int/nxsa-sl/servlet/data-action-aio?level=PPS&extension=FTZ&obsno=0303420101&name=HSIMAGU [Done]\n",
      "Downloading of XMM-OM-OPTICAL data complete.\n",
      "INFO: Maps available at /Users/dbaines/Downloads [astroquery.esasky.core]\n"
     ]
    }
   ],
   "source": [
    "#\n",
    "# set the download dir for ESASky products\n",
    "#\n",
    "download_dir = os.path.expanduser('~') + \"/Downloads/\" # change this to your desired directory\n",
    "\n",
    "maps_data = ESASky.get_maps(maps,'XMM-OM-OPTICAL', download_dir)  "
   ]
  },
  {
   "cell_type": "code",
   "execution_count": 8,
   "metadata": {
    "scrolled": true
   },
   "outputs": [
    {
     "data": {
      "text/plain": [
       "{'XMM-OM-OPTICAL': [[<astropy.io.fits.hdu.image.PrimaryHDU object at 0x11ff7c6a0>, <astropy.io.fits.hdu.image.ImageHDU object at 0x11ff8c860>, <astropy.io.fits.hdu.image.ImageHDU object at 0x12086f828>],\n",
       "  [<astropy.io.fits.hdu.image.PrimaryHDU object at 0x11ff9c198>, <astropy.io.fits.hdu.image.ImageHDU object at 0x12086fe48>, <astropy.io.fits.hdu.image.ImageHDU object at 0x120879470>],\n",
       "  [<astropy.io.fits.hdu.image.PrimaryHDU object at 0x120864a20>, <astropy.io.fits.hdu.image.ImageHDU object at 0x120879a58>, <astropy.io.fits.hdu.image.ImageHDU object at 0x120879fd0>],\n",
       "  [<astropy.io.fits.hdu.image.PrimaryHDU object at 0x11ffa3710>, <astropy.io.fits.hdu.image.ImageHDU object at 0x12087c668>, <astropy.io.fits.hdu.image.ImageHDU object at 0x12087cc50>]]}"
      ]
     },
     "execution_count": 8,
     "metadata": {},
     "output_type": "execute_result"
    }
   ],
   "source": [
    "maps_data"
   ]
  },
  {
   "cell_type": "markdown",
   "metadata": {},
   "source": [
    "The output maps_data is a product containing all the FITS files in memory, which are also downloaded to a local folder. If no folder is specified, the current working directory is used by default.\n",
    "\n",
    "It is possible to download all the available images at once by typing 'all' as the mission name in the ESASky.get_maps() method.\n",
    "    \n",
    "We are ready to work with these maps. For example, let's inspect the header of one of them:"
   ]
  },
  {
   "cell_type": "code",
   "execution_count": 9,
   "metadata": {},
   "outputs": [
    {
     "data": {
      "text/plain": [
       "SIMPLE  =                    T / file does conform to FITS standard             \n",
       "BITPIX  =                  -32 / number of bits per data pixel                  \n",
       "NAXIS   =                    2 / number of data axes                            \n",
       "NAXIS1  =                 2951 / length of data axis 1                          \n",
       "NAXIS2  =                 2925 / length of data axis 2                          \n",
       "EXTEND  =                    T / FITS dataset may contain extensions            \n",
       "BUNIT   = 'Primary Array'      / Units of the image                             \n",
       "XPROC0  = 'ommosaic imagesets=''product/P0303420101OMS006FSIMAGU000.FIT produc&'\n",
       "CONTINUE  't/P0303420101OMS007FSIMAGU000.FIT product/P0303420101OMS008FSIMAGU0&'\n",
       "CONTINUE  '00.FIT'' mosaicedset=product/P0303420101OMX000HSIMAGU000.FIT correl&'\n",
       "CONTINUE  'set='''' nsigma=2 mincorr=0 minfraction=0.5 maxdx=5 binaxis=0 numin&'\n",
       "CONTINUE  'tervals=2 di=10 minnumpixels=100 # (ommosaic-2.5.17) [xmmsas_201212&'\n",
       "CONTINUE  '19_1645-12.0.1]'                                                     \n",
       "XPROC1  = 'addattribute set=product/P0303420101OMX000HSIMAGU000.FIT attributen&'\n",
       "CONTINUE  'ame=''SEQ_ID REVOLUT PROCDATE PROCREV PPSVERS SASVERS ODSVER ORIGIN&'\n",
       "CONTINUE  ' ODFVER CONTENT'' attributetype=''string string string string strin&'\n",
       "CONTINUE  'g string string string string string'' attributecomment=''\"Pipeline&'\n",
       "CONTINUE  ' sequence\" \"Satellite Revolution Number\" \"Processing date\" \"Process&'\n",
       "CONTINUE  'ing revision\" \"PPS configuration\" \"SAS version used in pipeline pro&'\n",
       "CONTINUE  'cessing\" \"ODS version\" \"Origin of FITS file\" ODF_VERSION \"Contents &'\n",
       "CONTINUE  'of file\"'' attributeunit='''' realvalue='''' stringvalue=''124006 1&'\n",
       "CONTINUE  '180 2012-12-23T12:09:02 1 00000004_04_cat9.0_20121220.153800 xmmsas&'\n",
       "CONTINUE  '_20121219_1645-12.0.1 16.911 Leicester/SSC 003 \"OM FULL-FRAME HIRES&'\n",
       "CONTINUE  ' SKY IMAGE MOSAIC\"'' integervalue='''' booleanvalue='''' # (addattr&'\n",
       "CONTINUE  'ibute-2.2.6) [xmmsas_20121219_1645-12.0.1]'                          \n",
       "XPROC2  = 'addattribute set=product/P0303420101OMX000HSIMAGU000.FIT attributen&'\n",
       "CONTINUE  'ame=''SEQ_ID REVOLUT PROCDATE PROCREV PPSVERS SASVERS ODSVER ORIGIN&'\n",
       "CONTINUE  ' ODFVER CONTENT'' attributetype=''string string string string strin&'\n",
       "CONTINUE  'g string string string string string'' attributecomment=''\"Pipeline&'\n",
       "CONTINUE  ' sequence\" \"Satellite Revolution Number\" \"Processing date\" \"Process&'\n",
       "CONTINUE  'ing revision\" \"PPS configuration\" \"SAS version used in pipeline pro&'\n",
       "CONTINUE  'cessing\" \"ODS version\" \"Origin of FITS file\" ODF_VERSION \"Contents &'\n",
       "CONTINUE  'of file\"'' attributeunit='''' realvalue='''' stringvalue=''124006 1&'\n",
       "CONTINUE  '180 2012-12-23T12:09:02 1 00000004_04_cat9.0_20121220.153800 xmmsas&'\n",
       "CONTINUE  '_20121219_1645-12.0.1 16.911 Leicester/SSC 003 \"OM FULL-FRAME HIRES&'\n",
       "CONTINUE  ' SKY IMAGE MOSAIC\"'' integervalue='''' booleanvalue='''' # (addattr&'\n",
       "CONTINUE  'ibute-2.2.6) [xmmsas_20121219_1645-12.0.1]'                          \n",
       "XDAL0   = 'product/P0303420101OMX000HSIMAGU000.FIT 2012-12-24T05:10:52.000 Mod&'\n",
       "CONTINUE  'ify addattribute (addattribute-2.2.6) [xmmsas_20121219_1645-12.0.1]&'\n",
       "CONTINUE  ' High SAS_MEMORY_MODEL=high SAS_ROWS= SAS_ZERO_ROWS= SAS_COLUMN_WIS&'\n",
       "CONTINUE  'E=      '                                                            \n",
       "XDAL1   = 'product/P0303420101OMX000HSIMAGU000.FIT 2012-12-24T05:10:47.000 Mod&'\n",
       "CONTINUE  'ify addattribute (addattribute-2.2.6) [xmmsas_20121219_1645-12.0.1]&'\n",
       "CONTINUE  ' High SAS_MEMORY_MODEL=high SAS_ROWS= SAS_ZERO_ROWS= SAS_COLUMN_WIS&'\n",
       "CONTINUE  'E=      '                                                            \n",
       "XDAL2   = 'product/P0303420101OMX000HSIMAGU000.FIT 2012-12-23T17:08:26.000 Cre&'\n",
       "CONTINUE  'ate ommosaic (ommosaic-2.5.17) [xmmsas_20121219_1645-12.0.1] High S&'\n",
       "CONTINUE  'AS_MEMORY_MODEL=high SAS_ROWS= SAS_ZERO_ROWS= SAS_COLUMN_WISE='      \n",
       "CREATOR = 'ommosaic (ommosaic-2.5.17) [xmmsas_20121219_1645-12.0.1]' / name of c\n",
       "DATE    = '2012-12-23T17:08:41.000' / creation date                             \n",
       "LONGSTRN= 'OGIP 1.0'                                                            \n",
       "INSTRUME= 'OM      '                                                            \n",
       "DATAMODE= 'IMAGING '                                                            \n",
       "FILTER  = 'U       '                                                            \n",
       "OBS_ID  = '        '                                                            \n",
       "OBJECT  = 'UNKNOWN '                                                            \n",
       "DATE-OBS= '2006-05-20T06:54:35.000'                                             \n",
       "DATE-END= '2006-05-20T14:50:37.000'                                             \n",
       "BINAX1  =                    0                                                  \n",
       "BINAX2  =                    0                                                  \n",
       "BINBPE  =                    F                                                  \n",
       "EXPOSURE=                    1                                                  \n",
       "DEADFRAC= 0.00000000000000E+00                                                  \n",
       "FRAMTIME= 0.00000000000000E+00                                                  \n",
       "WINDOWX0=                    0                                                  \n",
       "WINDOWDX=                 2951                                                  \n",
       "WINDOWY0=                    0                                                  \n",
       "WINDOWDY=                 2925                                                  \n",
       "EQUINOX =                 2000 / Equinox of celestial coordinate system         \n",
       "CDELT1  = -1.32364715682343E-04 / Plate-scale in x direction                    \n",
       "CDELT2  = 1.32364715682343E-04 / Plate-scale in y direction                     \n",
       "CTYPE1  = 'RA---TAN'                                                            \n",
       "CTYPE2  = 'DEC--TAN'                                                            \n",
       "CRPIX1  = 5.00000000000000E-01 / Reference x pixel                              \n",
       "CRPIX2  = 5.00000000000000E-01 / Reference y pixel                              \n",
       "CRVAL1  = 2.02767586731234E+02 / RA at reference  x pixel                       \n",
       "CRVAL2  = 4.69831085495064E+01 / DEC at reference  y pixel                      \n",
       "PA      = 0.00000000000000E+00 / Mean RA pointing direction                     \n",
       "RA_PNT  = 2.02767586731234E+02 / Mean RA pointing direction                     \n",
       "DEC_PNT = 4.69831085495064E+01 / Mean Dec pointingDirection                     \n",
       "POSCOROK=                    T / Images were astrometry corrected               \n",
       "RAOFFSET= 8.83855919043223E-01 / Mean RA offset applied to images               \n",
       "DEOFFSET= 1.71797700723012E+00 / Mean DEC offset applied to images              \n",
       "NSTACKED=                    3 / Number of images stacked                       \n",
       "SEQ_ID  = '124006  '           / Pipeline sequence                              \n",
       "REVOLUT = '1180    '           / Satellite Revolution Number                    \n",
       "PROCDATE= '2012-12-23T12:09:02' / Processing date                               \n",
       "PROCREV = '1       '           / Processing revision                            \n",
       "PPSVERS = '00000004_04_cat9.0_20121220.153800' / PPS configuration              \n",
       "SASVERS = 'xmmsas_20121219_1645-12.0.1' / SAS version used in pipeline processin\n",
       "ODSVER  = '16.911  '           / ODS version                                    \n",
       "ORIGIN  = 'Leicester/SSC'      / Origin of FITS file                            \n",
       "ODFVER  = '003     '           / ODF_VERSION                                    \n",
       "CONTENT = 'OM FULL-FRAME HIRES SKY IMAGE MOSAIC' / Contents of file             \n",
       "HISTORY Created by ommosaic (ommosaic-2.5.17) [xmmsas_20121219_1645-12.0.1] at 2\n",
       "HISTORY 012-12-23T17:08:26                                                      \n",
       "HISTORY Modified by addattribute (addattribute-2.2.6) [xmmsas_20121219_1645-12.0\n",
       "HISTORY .1] at 2012-12-24T05:10:49                                              \n",
       "HISTORY Modified by addattribute (addattribute-2.2.6) [xmmsas_20121219_1645-12.0\n",
       "HISTORY .1] at 2012-12-24T05:10:52                                              "
      ]
     },
     "execution_count": 9,
     "metadata": {},
     "output_type": "execute_result"
    }
   ],
   "source": [
    "hdu = maps_data[\"XMM-OM-OPTICAL\"][3]\n",
    "hdu[0].header"
   ]
  },
  {
   "cell_type": "markdown",
   "metadata": {},
   "source": [
    "Let's now display it:"
   ]
  },
  {
   "cell_type": "code",
   "execution_count": 10,
   "metadata": {},
   "outputs": [
    {
     "data": {
      "text/plain": [
       "<matplotlib.colorbar.Colorbar at 0x1278d8860>"
      ]
     },
     "execution_count": 10,
     "metadata": {},
     "output_type": "execute_result"
    },
    {
     "name": "stderr",
     "output_type": "stream",
     "text": [
      "/Users/dbaines/anaconda/envs/my_pymc_env/lib/python3.6/site-packages/matplotlib/image.py:412: RuntimeWarning: invalid value encountered in subtract\n",
      "  A_scaled -= a_min\n"
     ]
    },
    {
     "data": {
      "image/png": "[encoded data removed]",
      "text/plain": [
       "<Figure size 800x800 with 2 Axes>"
      ]
     },
     "metadata": {
      "needs_background": "light"
     },
     "output_type": "display_data"
    }
   ],
   "source": [
    "image = hdu[0].data\n",
    "\n",
    "from astropy import visualization \n",
    "from astropy.visualization import (MinMaxInterval, SqrtStretch, ImageNormalize, ManualInterval)\n",
    "\n",
    "# Create an ImageNormalize object\n",
    "#norm = ImageNormalize(image, interval=MinMaxInterval(), stretch=SqrtStretch())\n",
    "norm = ImageNormalize(image, interval = ManualInterval(-0.05,0.1))\n",
    "\n",
    "# Display the image\n",
    "fig = plt.figure(figsize=(8,8),dpi=100)\n",
    "ax = fig.add_subplot(1, 1, 1)\n",
    "im = ax.imshow(image, cmap='gray', origin='lower', norm=norm)\n",
    "fig.colorbar(im)"
   ]
  },
  {
   "cell_type": "markdown",
   "metadata": {},
   "source": [
    "\n",
    "\n",
    "### Use Case 2: Retrieve catalogue data for a single object\n",
    "\n",
    "We will now inspect and retrieve the catalogue data available for a given object, using either a name (resolved by Simbad) or coordinates.\n",
    "\n",
    "As we did in Use Case 1 with the images, let's first get a list of the available catalogues:\n"
   ]
  },
  {
   "cell_type": "code",
   "execution_count": 11,
   "metadata": {},
   "outputs": [
    {
     "data": {
      "text/plain": [
       "['AllWise',\n",
       " '2MASS',\n",
       " 'INTEGRAL',\n",
       " 'CHANDRA',\n",
       " 'XMM-EPIC-STACK',\n",
       " 'XMM-EPIC',\n",
       " 'XMM-OM',\n",
       " 'XMM-SLEW',\n",
       " 'Tycho-2',\n",
       " 'Gaia DR2',\n",
       " 'Hipparcos-2',\n",
       " 'HSC',\n",
       " 'Herschel-HPPSC-070',\n",
       " 'Herschel-HPPSC-100',\n",
       " 'Herschel-HPPSC-160',\n",
       " 'Herschel-SPSC-250',\n",
       " 'Herschel-SPSC-350',\n",
       " 'Herschel-SPSC-500',\n",
       " 'Planck-PGCC2',\n",
       " 'Planck-PCCS2E-HFI',\n",
       " 'Planck-PCCS2-HFI',\n",
       " 'Planck-PCCS2-LFI',\n",
       " 'Planck-PSZ']"
      ]
     },
     "execution_count": 11,
     "metadata": {},
     "output_type": "execute_result"
    }
   ],
   "source": [
    "ESASky.list_catalogs()"
   ]
  },
  {
   "cell_type": "markdown",
   "metadata": {},
   "source": [
    "We can look for an object in these catalogues by name or coordinates:"
   ]
  },
  {
   "cell_type": "code",
   "execution_count": 12,
   "metadata": {},
   "outputs": [
    {
     "name": "stderr",
     "output_type": "stream",
     "text": [
      "WARNING: W35: None:4:0: W35: 'value' attribute required for INFO elements [astropy.io.votable.tree]\n",
      "WARNING: W35: None:5:0: W35: 'value' attribute required for INFO elements [astropy.io.votable.tree]\n",
      "WARNING: W35: None:5:28: W35: 'value' attribute required for INFO elements [astropy.io.votable.tree]\n",
      "WARNING: W35: None:5:53: W35: 'value' attribute required for INFO elements [astropy.io.votable.tree]\n",
      "WARNING: W35: None:5:83: W35: 'value' attribute required for INFO elements [astropy.io.votable.tree]\n",
      "WARNING: W35: None:6:0: W35: 'value' attribute required for INFO elements [astropy.io.votable.tree]\n",
      "WARNING: W06: None:10:0: W06: Invalid UCD 'pmra': Unknown word 'pmra' [astropy.io.votable.tree]\n",
      "WARNING: W06: None:11:0: W06: Invalid UCD 'pmdec': Unknown word 'pmdec' [astropy.io.votable.tree]\n"
     ]
    },
    {
     "name": "stdout",
     "output_type": "stream",
     "text": [
      "TableList with 8 tables:\n",
      "\t'0:ALLWISE' with 13 column(s) and 1 row(s) \n",
      "\t'1:2MASS' with 9 column(s) and 3 row(s) \n",
      "\t'2:XMM-EPIC-STACK' with 14 column(s) and 1 row(s) \n",
      "\t'3:XMM-EPIC' with 6 column(s) and 2 row(s) \n",
      "\t'4:XMM-OM' with 12 column(s) and 3 row(s) \n",
      "\t'5:HSC' with 8 column(s) and 34 row(s) \n",
      "\t'6:HERSCHEL-HPPSC-070' with 15 column(s) and 1 row(s) \n",
      "\t'7:HERSCHEL-HPPSC-100' with 15 column(s) and 1 row(s) \n"
     ]
    }
   ],
   "source": [
    "cats = ESASky.query_object_catalogs('M51')\n",
    "print (cats)"
   ]
  },
  {
   "cell_type": "code",
   "execution_count": 13,
   "metadata": {},
   "outputs": [
    {
     "name": "stdout",
     "output_type": "stream",
     "text": [
      "TableList with 8 tables:\n",
      "\t'0:ALLWISE' with 13 column(s) and 1 row(s) \n",
      "\t'1:2MASS' with 9 column(s) and 2 row(s) \n",
      "\t'2:XMM-EPIC-STACK' with 14 column(s) and 1 row(s) \n",
      "\t'3:XMM-EPIC' with 6 column(s) and 2 row(s) \n",
      "\t'4:XMM-OM' with 12 column(s) and 3 row(s) \n",
      "\t'5:HSC' with 8 column(s) and 35 row(s) \n",
      "\t'6:HERSCHEL-HPPSC-070' with 15 column(s) and 1 row(s) \n",
      "\t'7:HERSCHEL-HPPSC-100' with 15 column(s) and 1 row(s) \n"
     ]
    }
   ],
   "source": [
    "cats = ESASky.query_object_catalogs('13 29 52.7 +47 11 43')\n",
    "print (cats)"
   ]
  },
  {
   "cell_type": "markdown",
   "metadata": {},
   "source": [
    "As in the previous use case, the query results are stored in a TableList with the keys corresponding to the catalog name. \n",
    "\n",
    "It is also possible to specify the catalogues to search:"
   ]
  },
  {
   "cell_type": "code",
   "execution_count": 14,
   "metadata": {
    "scrolled": true
   },
   "outputs": [
    {
     "name": "stdout",
     "output_type": "stream",
     "text": [
      "TableList with 2 tables:\n",
      "\t'0:XMM-EPIC' with 6 column(s) and 2 row(s) \n",
      "\t'1:HSC' with 8 column(s) and 34 row(s) \n"
     ]
    }
   ],
   "source": [
    "cats = ESASky.query_object_catalogs('M51',[\"XMM-EPIC\",\"XMM-SLEW\", \"HSC\"])\n",
    "print (cats)"
   ]
  },
  {
   "cell_type": "markdown",
   "metadata": {},
   "source": [
    "In this example, we only get two tables, because there are no available sources in the XMM-SLEW catalogue.\n",
    "\n",
    "Let's now visualise the XMM-EPIC results table:"
   ]
  },
  {
   "cell_type": "code",
   "execution_count": 15,
   "metadata": {},
   "outputs": [
    {
     "name": "stdout",
     "output_type": "stream",
     "text": [
      "<Table masked=True length=34>\n",
      "    name      dtype  format\n",
      "------------ ------- ------\n",
      "    match_id   int64       \n",
      "        name  object       \n",
      "  num_images   int32       \n",
      "          ra float64 {!r:>}\n",
      "         dec float64 {!r:>}\n",
      "      fluxes  object       \n",
      "fluxesvalues  object       \n",
      " sigmavalues  object       \n"
     ]
    }
   ],
   "source": [
    "hsc_table = cats[\"HSC\"]\n",
    "hsc_table.info()"
   ]
  },
  {
   "cell_type": "code",
   "execution_count": 16,
   "metadata": {},
   "outputs": [
    {
     "name": "stdout",
     "output_type": "stream",
     "text": [
      "match_id   name   ...              sigmavalues              \n",
      "-------- -------- ... --------------------------------------\n",
      " 8984035  NGC5194 ... 0.0000, 0.0000, 0.0000, 0.0092, 0.0000\n",
      " 9146957 SN2005CS ... 0.0000, 0.0000, 0.0000, 0.0000, 0.3905\n",
      " 8992625 SN2005CS ...         0.0000, 0.0000, 0.0000, 0.0000\n",
      " 9004677    M51-3 ...                         0.1920, 0.0000\n",
      " 8986000    M51-3 ...                         0.3470, 0.0000\n",
      " 8992912    M51-3 ...                         0.2579, 0.0000\n",
      " 9147680    M51-3 ...                                 0.0094\n",
      " 8980663    M51-3 ...                         0.0000, 0.0000\n",
      " 8981956    M51-3 ...                                 0.1599\n",
      " 8985840  NGC5194 ...                         0.0000, 0.0000\n",
      "     ...      ... ...                                    ...\n",
      " 8969716    M51-3 ...                                 0.0000\n",
      " 9005534    M51-1 ...                                 0.0000\n",
      " 9146006    M51-3 ...                                 0.0000\n",
      " 8996950  SN1994I ...                                 0.0000\n",
      " 8984122    M51-3 ...                                 0.0000\n",
      " 8987755  SN1994I ...                                 0.0000\n",
      " 8987989    M51-3 ...                                 0.0000\n",
      " 8989041    M51-3 ...                                 0.0000\n",
      " 8990875  SN1994I ...                                 0.0000\n",
      " 8991590    M51-3 ...                                 0.0000\n",
      " 8992270  SN1994I ...                                 0.0000\n",
      "Length = 34 rows\n"
     ]
    }
   ],
   "source": [
    "print (hsc_table)"
   ]
  },
  {
   "cell_type": "markdown",
   "metadata": {},
   "source": [
    "We can also choose the columns to display:"
   ]
  },
  {
   "cell_type": "code",
   "execution_count": 17,
   "metadata": {},
   "outputs": [
    {
     "name": "stdout",
     "output_type": "stream",
     "text": [
      "  name           ra                dec        \n",
      "-------- ------------------ ------------------\n",
      " NGC5194  202.4696214722941  47.19528395791828\n",
      "SN2005CS 202.47117517567187  47.19468973805837\n",
      "SN2005CS 202.46967663414804    47.195137221641\n",
      "   M51-3 202.46871789371008   47.1959885181474\n",
      "   M51-3 202.47070891462116  47.19427421105356\n",
      "   M51-3 202.46809779496715  47.19600783872095\n",
      "   M51-3   202.470340592702  47.19614826226936\n",
      "   M51-3 202.46897225496647 47.194237136942014\n",
      "   M51-3 202.47081446307865  47.19420906449286\n",
      " NGC5194 202.46983100759005  47.19420861917729\n",
      "     ...                ...                ...\n",
      "   M51-3 202.46771650529647  47.19475631194131\n",
      "   M51-1 202.47146559032703 47.195541069192046\n",
      "   M51-3 202.46842740940812 47.194226813381455\n",
      " SN1994I 202.46894157707743  47.19545431189097\n",
      "   M51-3 202.46811100328185   47.1954417127405\n",
      " SN1994I 202.46991550718963  47.19531492645547\n",
      "   M51-3 202.46770040291568   47.1952897119087\n",
      "   M51-3  202.4688063032161  47.19585541414903\n",
      " SN1994I 202.47003400101758  47.19556551920438\n",
      "   M51-3 202.46918930028673  47.19649135937144\n",
      " SN1994I 202.46856810633034  47.19618125262504\n",
      "Length = 34 rows\n"
     ]
    }
   ],
   "source": [
    "print (hsc_table['name', 'ra', 'dec'])"
   ]
  },
  {
   "cell_type": "markdown",
   "metadata": {},
   "source": [
    "Let's plot these sources:"
   ]
  },
  {
   "cell_type": "code",
   "execution_count": 18,
   "metadata": {},
   "outputs": [
    {
     "data": {
      "image/png": "[encoded data removed]",
      "text/plain": [
       "<Figure size 432x288 with 1 Axes>"
      ]
     },
     "metadata": {
      "needs_background": "light"
     },
     "output_type": "display_data"
    }
   ],
   "source": [
    "plt.xlabel('RA (deg)')\n",
    "plt.ylabel('DEC (deg)')\n",
    "plt.xlim(reversed(plt.xlim(202.467,202.472)))\n",
    "plt.ylim(47.193,47.197)\n",
    "plt.scatter(hsc_table['ra'], hsc_table['dec'])\n",
    "plt.grid(True)"
   ]
  },
  {
   "cell_type": "markdown",
   "metadata": {},
   "source": [
    "\n",
    "\n",
    "### Use Case 3: Retrieve data in a sky region\n",
    "\n",
    "It is also possible retrieve imaging and catalogue data in a circular sky region. The procedure is very similar to the case of a single object discussed above, but using the query_region_maps() and query_region_catalogs() methods instead of query_object_maps() and query_object_catalogs(). \n",
    "\n",
    "Let's first see the case where imaging data are retrieved. To query the region, we have to enter the central coordinates and the radius:"
   ]
  },
  {
   "cell_type": "code",
   "execution_count": 19,
   "metadata": {
    "scrolled": true
   },
   "outputs": [
    {
     "name": "stderr",
     "output_type": "stream",
     "text": [
      "WARNING: W35: None:4:0: W35: 'value' attribute required for INFO elements [astropy.io.votable.tree]\n",
      "WARNING: W35: None:5:0: W35: 'value' attribute required for INFO elements [astropy.io.votable.tree]\n",
      "WARNING: W35: None:5:28: W35: 'value' attribute required for INFO elements [astropy.io.votable.tree]\n",
      "WARNING: W35: None:5:53: W35: 'value' attribute required for INFO elements [astropy.io.votable.tree]\n",
      "WARNING: W35: None:5:83: W35: 'value' attribute required for INFO elements [astropy.io.votable.tree]\n",
      "WARNING: W35: None:6:0: W35: 'value' attribute required for INFO elements [astropy.io.votable.tree]\n"
     ]
    },
    {
     "name": "stdout",
     "output_type": "stream",
     "text": [
      "TableList with 8 tables:\n",
      "\t'0:INTEGRAL' with 8 column(s) and 1 row(s) \n",
      "\t'1:XMM' with 10 column(s) and 6 row(s) \n",
      "\t'2:CHANDRA' with 10 column(s) and 16 row(s) \n",
      "\t'3:XMM-OM-OPTICAL' with 11 column(s) and 4 row(s) \n",
      "\t'4:XMM-OM-UV' with 10 column(s) and 5 row(s) \n",
      "\t'5:HST' with 12 column(s) and 650 row(s) \n",
      "\t'6:HERSCHEL' with 12 column(s) and 25 row(s) \n",
      "\t'7:ISO' with 7 column(s) and 10 row(s) \n"
     ]
    }
   ],
   "source": [
    "maps = ESASky.query_region_maps('13 29 52.7 +47 11 43', '25 arcmin')\n",
    "print (maps)"
   ]
  },
  {
   "cell_type": "markdown",
   "metadata": {},
   "source": [
    "The difference with the query_object_maps() module is that now we have to explicitly indicate the search radius; if not, an error message is returned.\n",
    "\n",
    "To search in a region around a given object, we can also enter the object's name instead of its coordinates:"
   ]
  },
  {
   "cell_type": "code",
   "execution_count": 20,
   "metadata": {
    "scrolled": true
   },
   "outputs": [
    {
     "name": "stdout",
     "output_type": "stream",
     "text": [
      "TableList with 8 tables:\n",
      "\t'0:INTEGRAL' with 8 column(s) and 1 row(s) \n",
      "\t'1:XMM' with 10 column(s) and 6 row(s) \n",
      "\t'2:CHANDRA' with 10 column(s) and 16 row(s) \n",
      "\t'3:XMM-OM-OPTICAL' with 11 column(s) and 4 row(s) \n",
      "\t'4:XMM-OM-UV' with 10 column(s) and 5 row(s) \n",
      "\t'5:HST' with 12 column(s) and 650 row(s) \n",
      "\t'6:HERSCHEL' with 12 column(s) and 25 row(s) \n",
      "\t'7:ISO' with 7 column(s) and 10 row(s) \n"
     ]
    }
   ],
   "source": [
    "maps = ESASky.query_region_maps('M51', '25 arcmin')\n",
    "print (maps)"
   ]
  },
  {
   "cell_type": "markdown",
   "metadata": {},
   "source": [
    "If we compare the result of this query with that of Use Case 1, we will see that now we get more data, because we are using a larger search radius (recall that the search by object uses a radius of only 5 arcsec). In particular, we now have INTEGRAL data, and the number of observations from the other missions has increased.\n",
    "\n",
    "The query for catalogues works similarly:"
   ]
  },
  {
   "cell_type": "code",
   "execution_count": 21,
   "metadata": {
    "scrolled": false
   },
   "outputs": [
    {
     "name": "stdout",
     "output_type": "stream",
     "text": [
      "TableList with 2 tables:\n",
      "\t'0:XMM-EPIC' with 6 column(s) and 565 row(s) \n",
      "\t'1:HSC' with 8 column(s) and 10000 row(s) \n"
     ]
    }
   ],
   "source": [
    "cats = ESASky.query_region_catalogs('M51',\"25 arcmin\",[\"XMM-EPIC\", \"HSC\"])\n",
    "print (cats)"
   ]
  },
  {
   "cell_type": "markdown",
   "metadata": {},
   "source": [
    "We also note here how the number of rows in each table is larger than before, because of the larger search radius. \n",
    "\n",
    "By default, the query returns a maximum of 10,000 rows per table. Note that this limit has been reached for the HSC. If we want to make sure that all the rows are retrieved, we can set the row_limit parameter to -1:"
   ]
  },
  {
   "cell_type": "code",
   "execution_count": 22,
   "metadata": {
    "scrolled": false
   },
   "outputs": [
    {
     "name": "stdout",
     "output_type": "stream",
     "text": [
      "TableList with 2 tables:\n",
      "\t'0:XMM-EPIC' with 6 column(s) and 565 row(s) \n",
      "\t'1:HSC' with 8 column(s) and 100000 row(s) \n"
     ]
    }
   ],
   "source": [
    "cats = ESASky.query_region_catalogs('M51',\"25 arcmin\",[\"XMM-EPIC\", \"HSC\"], row_limit=-1)\n",
    "print (cats)"
   ]
  },
  {
   "cell_type": "markdown",
   "metadata": {},
   "source": [
    "Now the number of rows in the HSC table is 100,000, which is the absolute maximum that can be queried.\n",
    "\n",
    "Let's now see how the XMM-EPIC table looks like:"
   ]
  },
  {
   "cell_type": "code",
   "execution_count": 23,
   "metadata": {},
   "outputs": [
    {
     "name": "stdout",
     "output_type": "stream",
     "text": [
      "                                                                      postcard_url                                                                       ...\n",
      "-------------------------------------------------------------------------------------------------------------------------------------------------------- ...\n",
      "http://nxsa.esac.esa.int/nxsa-sl/servlet/data-action?RETRIEVAL_TYPE=POSTCARD&EPIC_SOURCE_CAT_OID=454471&EPIC_SOURCE_CAT_PRODUCT_TYPE=IMAGE&PROTOCOL=HTTP ...\n",
      "http://nxsa.esac.esa.int/nxsa-sl/servlet/data-action?RETRIEVAL_TYPE=POSTCARD&EPIC_SOURCE_CAT_OID=454470&EPIC_SOURCE_CAT_PRODUCT_TYPE=IMAGE&PROTOCOL=HTTP ...\n",
      "http://nxsa.esac.esa.int/nxsa-sl/servlet/data-action?RETRIEVAL_TYPE=POSTCARD&EPIC_SOURCE_CAT_OID=454915&EPIC_SOURCE_CAT_PRODUCT_TYPE=IMAGE&PROTOCOL=HTTP ...\n",
      "http://nxsa.esac.esa.int/nxsa-sl/servlet/data-action?RETRIEVAL_TYPE=POSTCARD&EPIC_SOURCE_CAT_OID=455884&EPIC_SOURCE_CAT_PRODUCT_TYPE=IMAGE&PROTOCOL=HTTP ...\n",
      "http://nxsa.esac.esa.int/nxsa-sl/servlet/data-action?RETRIEVAL_TYPE=POSTCARD&EPIC_SOURCE_CAT_OID=455963&EPIC_SOURCE_CAT_PRODUCT_TYPE=IMAGE&PROTOCOL=HTTP ...\n",
      "http://nxsa.esac.esa.int/nxsa-sl/servlet/data-action?RETRIEVAL_TYPE=POSTCARD&EPIC_SOURCE_CAT_OID=454682&EPIC_SOURCE_CAT_PRODUCT_TYPE=IMAGE&PROTOCOL=HTTP ...\n",
      "http://nxsa.esac.esa.int/nxsa-sl/servlet/data-action?RETRIEVAL_TYPE=POSTCARD&EPIC_SOURCE_CAT_OID=454688&EPIC_SOURCE_CAT_PRODUCT_TYPE=IMAGE&PROTOCOL=HTTP ...\n",
      "http://nxsa.esac.esa.int/nxsa-sl/servlet/data-action?RETRIEVAL_TYPE=POSTCARD&EPIC_SOURCE_CAT_OID=454734&EPIC_SOURCE_CAT_PRODUCT_TYPE=IMAGE&PROTOCOL=HTTP ...\n",
      "http://nxsa.esac.esa.int/nxsa-sl/servlet/data-action?RETRIEVAL_TYPE=POSTCARD&EPIC_SOURCE_CAT_OID=454238&EPIC_SOURCE_CAT_PRODUCT_TYPE=IMAGE&PROTOCOL=HTTP ...\n",
      "http://nxsa.esac.esa.int/nxsa-sl/servlet/data-action?RETRIEVAL_TYPE=POSTCARD&EPIC_SOURCE_CAT_OID=454916&EPIC_SOURCE_CAT_PRODUCT_TYPE=IMAGE&PROTOCOL=HTTP ...\n",
      "                                                                                                                                                     ... ...\n",
      "http://nxsa.esac.esa.int/nxsa-sl/servlet/data-action?RETRIEVAL_TYPE=POSTCARD&EPIC_SOURCE_CAT_OID=454029&EPIC_SOURCE_CAT_PRODUCT_TYPE=IMAGE&PROTOCOL=HTTP ...\n",
      "http://nxsa.esac.esa.int/nxsa-sl/servlet/data-action?RETRIEVAL_TYPE=POSTCARD&EPIC_SOURCE_CAT_OID=454055&EPIC_SOURCE_CAT_PRODUCT_TYPE=IMAGE&PROTOCOL=HTTP ...\n",
      "http://nxsa.esac.esa.int/nxsa-sl/servlet/data-action?RETRIEVAL_TYPE=POSTCARD&EPIC_SOURCE_CAT_OID=453612&EPIC_SOURCE_CAT_PRODUCT_TYPE=IMAGE&PROTOCOL=HTTP ...\n",
      "http://nxsa.esac.esa.int/nxsa-sl/servlet/data-action?RETRIEVAL_TYPE=POSTCARD&EPIC_SOURCE_CAT_OID=455078&EPIC_SOURCE_CAT_PRODUCT_TYPE=IMAGE&PROTOCOL=HTTP ...\n",
      "http://nxsa.esac.esa.int/nxsa-sl/servlet/data-action?RETRIEVAL_TYPE=POSTCARD&EPIC_SOURCE_CAT_OID=454075&EPIC_SOURCE_CAT_PRODUCT_TYPE=IMAGE&PROTOCOL=HTTP ...\n",
      "http://nxsa.esac.esa.int/nxsa-sl/servlet/data-action?RETRIEVAL_TYPE=POSTCARD&EPIC_SOURCE_CAT_OID=454846&EPIC_SOURCE_CAT_PRODUCT_TYPE=IMAGE&PROTOCOL=HTTP ...\n",
      "http://nxsa.esac.esa.int/nxsa-sl/servlet/data-action?RETRIEVAL_TYPE=POSTCARD&EPIC_SOURCE_CAT_OID=455129&EPIC_SOURCE_CAT_PRODUCT_TYPE=IMAGE&PROTOCOL=HTTP ...\n",
      "http://nxsa.esac.esa.int/nxsa-sl/servlet/data-action?RETRIEVAL_TYPE=POSTCARD&EPIC_SOURCE_CAT_OID=453505&EPIC_SOURCE_CAT_PRODUCT_TYPE=IMAGE&PROTOCOL=HTTP ...\n",
      "http://nxsa.esac.esa.int/nxsa-sl/servlet/data-action?RETRIEVAL_TYPE=POSTCARD&EPIC_SOURCE_CAT_OID=453993&EPIC_SOURCE_CAT_PRODUCT_TYPE=IMAGE&PROTOCOL=HTTP ...\n",
      "http://nxsa.esac.esa.int/nxsa-sl/servlet/data-action?RETRIEVAL_TYPE=POSTCARD&EPIC_SOURCE_CAT_OID=455038&EPIC_SOURCE_CAT_PRODUCT_TYPE=IMAGE&PROTOCOL=HTTP ...\n",
      "http://nxsa.esac.esa.int/nxsa-sl/servlet/data-action?RETRIEVAL_TYPE=POSTCARD&EPIC_SOURCE_CAT_OID=453942&EPIC_SOURCE_CAT_PRODUCT_TYPE=IMAGE&PROTOCOL=HTTP ...\n",
      "Length = 565 rows\n"
     ]
    }
   ],
   "source": [
    "xmm_epic_table = cats[\"XMM-EPIC\"]\n",
    "print (xmm_epic_table)"
   ]
  },
  {
   "cell_type": "markdown",
   "metadata": {},
   "source": [
    "We are ready to work with the data. For example, let's plot a histogram of the EPIC fluxes:"
   ]
  },
  {
   "cell_type": "code",
   "execution_count": 24,
   "metadata": {
    "scrolled": true
   },
   "outputs": [
    {
     "data": {
      "image/png": "[encoded data removed]",
      "text/plain": [
       "<Figure size 432x288 with 1 Axes>"
      ]
     },
     "metadata": {
      "needs_background": "light"
     },
     "output_type": "display_data"
    }
   ],
   "source": [
    "NBINS = 100\n",
    "plt.xlim(0, 3e-13)\n",
    "plt.ylim(0,300)\n",
    "flux = plt.hist(xmm_epic_table['ep_8_flux'], NBINS)"
   ]
  }
 ],
 "metadata": {
  "anaconda-cloud": {},
  "kernelspec": {
   "display_name": "Python 3",
   "language": "python",
   "name": "python3"
  },
  "language_info": {
   "codemirror_mode": {
    "name": "ipython",
    "version": 3
   },
   "file_extension": ".py",
   "mimetype": "text/x-python",
   "name": "python",
   "nbconvert_exporter": "python",
   "pygments_lexer": "ipython3",
   "version": "3.6.5"
  }
 },
 "nbformat": 4,
 "nbformat_minor": 1
}
